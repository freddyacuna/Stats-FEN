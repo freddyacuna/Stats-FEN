{
  "nbformat": 4,
  "nbformat_minor": 0,
  "metadata": {
    "colab": {
      "name": "Capsula_1.ipynb",
      "provenance": []
    },
    "kernelspec": {
      "name": "python3",
      "display_name": "Python 3"
    },
    "language_info": {
      "name": "python"
    }
  },
  "cells": [
    {
      "cell_type": "markdown",
      "source": [
        "Primero que todo recordar que podemos utilizar Python como una calculadora."
      ],
      "metadata": {
        "id": "ImtNf2DdBex5"
      }
    },
    {
      "cell_type": "code",
      "source": [
        "6*7 + (10*5)/2"
      ],
      "metadata": {
        "colab": {
          "base_uri": "https://localhost:8080/"
        },
        "id": "QxKY2dm4BnV2",
        "outputId": "21756e20-9650-45a8-affc-692bcb647c2b"
      },
      "execution_count": null,
      "outputs": [
        {
          "output_type": "execute_result",
          "data": {
            "text/plain": [
              "67.0"
            ]
          },
          "metadata": {},
          "execution_count": 1
        }
      ]
    },
    {
      "cell_type": "markdown",
      "source": [
        "Podemos darle un nombre o un valor a ciertas expresiones. Esto nos va a permitir utilizar estas expresiones en el futuro sin tener que escribir cada vez lo que significan."
      ],
      "metadata": {
        "id": "MQDASO79CjC5"
      }
    },
    {
      "cell_type": "code",
      "source": [
        "x = 10+5"
      ],
      "metadata": {
        "id": "96Rp7Q21B9Ls"
      },
      "execution_count": null,
      "outputs": []
    },
    {
      "cell_type": "code",
      "source": [
        "x"
      ],
      "metadata": {
        "colab": {
          "base_uri": "https://localhost:8080/"
        },
        "id": "jQ99Z9JzCzd-",
        "outputId": "604373c1-c571-477a-d616-851058073d42"
      },
      "execution_count": null,
      "outputs": [
        {
          "output_type": "execute_result",
          "data": {
            "text/plain": [
              "15"
            ]
          },
          "metadata": {},
          "execution_count": 4
        }
      ]
    },
    {
      "cell_type": "markdown",
      "source": [
        "Recordar que las variables deben empezar con letras y no pueden contener espacios (se puede utilizar el guión bajo)"
      ],
      "metadata": {
        "id": "kFTkHoexFlT4"
      }
    },
    {
      "cell_type": "code",
      "source": [
        "g1_a = 20\n",
        "g1_b = 30"
      ],
      "metadata": {
        "id": "grDOXJ7TDnir"
      },
      "execution_count": null,
      "outputs": []
    },
    {
      "cell_type": "code",
      "source": [
        "g1_b - g1_a"
      ],
      "metadata": {
        "colab": {
          "base_uri": "https://localhost:8080/"
        },
        "id": "QwHj_w4OGa6R",
        "outputId": "e2e9d0b9-c9c7-43ab-82b5-aea2d0ea21e2"
      },
      "execution_count": null,
      "outputs": [
        {
          "output_type": "execute_result",
          "data": {
            "text/plain": [
              "10"
            ]
          },
          "metadata": {},
          "execution_count": 6
        }
      ]
    },
    {
      "cell_type": "markdown",
      "source": [
        "Listas en Python: números separados por comas"
      ],
      "metadata": {
        "id": "EFTJNNKsGsc6"
      }
    },
    {
      "cell_type": "code",
      "source": [
        "[3,4,6.7,8]"
      ],
      "metadata": {
        "colab": {
          "base_uri": "https://localhost:8080/"
        },
        "id": "I114r2qnGhyK",
        "outputId": "30aa7b09-87e4-4de1-eff9-6793f1c55126"
      },
      "execution_count": null,
      "outputs": [
        {
          "output_type": "execute_result",
          "data": {
            "text/plain": [
              "[3, 4, 6.7, 8]"
            ]
          },
          "metadata": {},
          "execution_count": 7
        }
      ]
    },
    {
      "cell_type": "code",
      "source": [
        "b = [3,4,4,6.7,8]"
      ],
      "metadata": {
        "id": "0GHQwBjBHCLn"
      },
      "execution_count": null,
      "outputs": []
    },
    {
      "cell_type": "code",
      "source": [
        "b"
      ],
      "metadata": {
        "colab": {
          "base_uri": "https://localhost:8080/"
        },
        "id": "SnTJ0wxZHJ3Y",
        "outputId": "24ac856f-ed06-4af5-dd32-e4e72db75f11"
      },
      "execution_count": null,
      "outputs": [
        {
          "output_type": "execute_result",
          "data": {
            "text/plain": [
              "[3, 4, 4, 6.7, 8]"
            ]
          },
          "metadata": {},
          "execution_count": 21
        }
      ]
    },
    {
      "cell_type": "markdown",
      "source": [
        "Funciones"
      ],
      "metadata": {
        "id": "D5LRc4IBLMGP"
      }
    },
    {
      "cell_type": "code",
      "source": [
        "sum(b)"
      ],
      "metadata": {
        "colab": {
          "base_uri": "https://localhost:8080/"
        },
        "id": "_dSLmxvvIPUI",
        "outputId": "d7b0dd10-802d-48ee-f0e7-23068cfad561"
      },
      "execution_count": null,
      "outputs": [
        {
          "output_type": "execute_result",
          "data": {
            "text/plain": [
              "25.7"
            ]
          },
          "metadata": {},
          "execution_count": 22
        }
      ]
    },
    {
      "cell_type": "code",
      "source": [
        "#cuantos elementos tiene una lista\n",
        "\n",
        "len(b)"
      ],
      "metadata": {
        "colab": {
          "base_uri": "https://localhost:8080/"
        },
        "id": "WbE18OhaL-Gp",
        "outputId": "f721bb87-63ac-46d1-9dba-5ef44d2ef3ef"
      },
      "execution_count": null,
      "outputs": [
        {
          "output_type": "execute_result",
          "data": {
            "text/plain": [
              "5"
            ]
          },
          "metadata": {},
          "execution_count": 23
        }
      ]
    },
    {
      "cell_type": "markdown",
      "source": [
        "Con estas dos funciones podemos calcular el promedio de un conjunto de datos, una de las medidas de localización vista en el video de estadística descriptiva de esta semana. "
      ],
      "metadata": {
        "id": "tUFHuQ-fMMwb"
      }
    },
    {
      "cell_type": "code",
      "source": [
        "sum(b)/len(b)"
      ],
      "metadata": {
        "colab": {
          "base_uri": "https://localhost:8080/"
        },
        "id": "NISTPyPtMp1y",
        "outputId": "01106f1d-68f4-423e-c88a-440c0faed959"
      },
      "execution_count": null,
      "outputs": [
        {
          "output_type": "execute_result",
          "data": {
            "text/plain": [
              "5.14"
            ]
          },
          "metadata": {},
          "execution_count": 24
        }
      ]
    },
    {
      "cell_type": "code",
      "source": [
        "num = sum(b)\n",
        "den = len(b)"
      ],
      "metadata": {
        "id": "NxjEjhhoM0II"
      },
      "execution_count": null,
      "outputs": []
    },
    {
      "cell_type": "code",
      "source": [
        "num/den"
      ],
      "metadata": {
        "colab": {
          "base_uri": "https://localhost:8080/"
        },
        "id": "slQqini_M_AD",
        "outputId": "11d5f1c2-38f6-401a-dfe3-3e3e762226b1"
      },
      "execution_count": null,
      "outputs": [
        {
          "output_type": "execute_result",
          "data": {
            "text/plain": [
              "5.14"
            ]
          },
          "metadata": {},
          "execution_count": 26
        }
      ]
    },
    {
      "cell_type": "markdown",
      "source": [
        "Estas funciones Python las tiene integradas, sin embargo, este no contiene muchas funciones que podrían sernos muy útiles. Por lo tanto, vamos a tener que hacer uso de ciertos módulos que contienen ciertas colecciones de funciones. Para hacer esto vamos a tener que usar el comando 'import', vamos a importar estos módulos a Python. "
      ],
      "metadata": {
        "id": "gw69KMk3NFoc"
      }
    },
    {
      "cell_type": "code",
      "source": [
        "import numpy as np\n",
        "\n",
        "#utilizamos un alias para no escribir numpy todas las veces, en este caso es np, que es ampliamente utilizado. "
      ],
      "metadata": {
        "id": "-tc4TwZjN7sy"
      },
      "execution_count": null,
      "outputs": []
    },
    {
      "cell_type": "code",
      "source": [
        "np.mean(b)\n",
        "\n",
        "#utilizar la funcion mean (media) dentro de np (numpy)."
      ],
      "metadata": {
        "colab": {
          "base_uri": "https://localhost:8080/"
        },
        "id": "x0PWZKuRON3V",
        "outputId": "2e5d42d3-2f05-4e4b-f0b2-c272973d3b93"
      },
      "execution_count": null,
      "outputs": [
        {
          "output_type": "execute_result",
          "data": {
            "text/plain": [
              "5.14"
            ]
          },
          "metadata": {},
          "execution_count": 28
        }
      ]
    },
    {
      "cell_type": "code",
      "source": [
        "np.median(b)"
      ],
      "metadata": {
        "colab": {
          "base_uri": "https://localhost:8080/"
        },
        "id": "0SJNk88bOO_4",
        "outputId": "fb798f5e-19c6-48a5-bc66-bceb4d4d3ed3"
      },
      "execution_count": null,
      "outputs": [
        {
          "output_type": "execute_result",
          "data": {
            "text/plain": [
              "4.0"
            ]
          },
          "metadata": {},
          "execution_count": 29
        }
      ]
    },
    {
      "cell_type": "code",
      "source": [
        "import scipy.stats as ss\n",
        "\n",
        "#servirá para calcular distribuciones en el futuro."
      ],
      "metadata": {
        "id": "nEfYtGGVQFeU"
      },
      "execution_count": null,
      "outputs": []
    },
    {
      "cell_type": "code",
      "source": [
        "ss.mode(b)\n",
        "\n",
        "#calculo de la moda"
      ],
      "metadata": {
        "colab": {
          "base_uri": "https://localhost:8080/"
        },
        "id": "9LOtgTa8Rhxk",
        "outputId": "35b403d5-24f1-443b-ba4b-9ab4cda8432c"
      },
      "execution_count": null,
      "outputs": [
        {
          "output_type": "execute_result",
          "data": {
            "text/plain": [
              "ModeResult(mode=array([4.]), count=array([2]))"
            ]
          },
          "metadata": {},
          "execution_count": 32
        }
      ]
    },
    {
      "cell_type": "code",
      "source": [
        "np.var(b)\n",
        "\n",
        "#calculo de la varianza"
      ],
      "metadata": {
        "colab": {
          "base_uri": "https://localhost:8080/"
        },
        "id": "p_zgw8atVTYX",
        "outputId": "9e2a74fe-8d44-4b7e-f635-ce7b7158d265"
      },
      "execution_count": null,
      "outputs": [
        {
          "output_type": "execute_result",
          "data": {
            "text/plain": [
              "3.5584000000000002"
            ]
          },
          "metadata": {},
          "execution_count": 33
        }
      ]
    },
    {
      "cell_type": "code",
      "source": [
        "np.std(b)\n",
        "\n",
        "#calculo de la desviación estándar"
      ],
      "metadata": {
        "colab": {
          "base_uri": "https://localhost:8080/"
        },
        "id": "PxtQeFr3VX5e",
        "outputId": "28d1c16c-27cf-4c43-e920-433774fbd045"
      },
      "execution_count": null,
      "outputs": [
        {
          "output_type": "execute_result",
          "data": {
            "text/plain": [
              "1.8863721796082553"
            ]
          },
          "metadata": {},
          "execution_count": 34
        }
      ]
    },
    {
      "cell_type": "markdown",
      "source": [
        "Rango: diferencia entre el mayor y el menor valor de un conjunto de datos "
      ],
      "metadata": {
        "id": "QQ4VY22mV-_u"
      }
    },
    {
      "cell_type": "code",
      "source": [
        "rango_b = max(b) - min(b)\n",
        "rango_b"
      ],
      "metadata": {
        "colab": {
          "base_uri": "https://localhost:8080/"
        },
        "id": "u4qrYwxlVZqw",
        "outputId": "6a3171c4-cfd7-42d0-c825-58295fbcd388"
      },
      "execution_count": null,
      "outputs": [
        {
          "output_type": "execute_result",
          "data": {
            "text/plain": [
              "5"
            ]
          },
          "metadata": {},
          "execution_count": 36
        }
      ]
    },
    {
      "cell_type": "code",
      "source": [
        "np.percentile(b,50)"
      ],
      "metadata": {
        "colab": {
          "base_uri": "https://localhost:8080/"
        },
        "id": "0EyEDn0VWJ3N",
        "outputId": "9221ac86-4d01-4f11-8c09-58ab7ced88f8"
      },
      "execution_count": null,
      "outputs": [
        {
          "output_type": "execute_result",
          "data": {
            "text/plain": [
              "4.0"
            ]
          },
          "metadata": {},
          "execution_count": 37
        }
      ]
    },
    {
      "cell_type": "code",
      "source": [
        "q1 = np.percentile(b,25)\n",
        "q1"
      ],
      "metadata": {
        "colab": {
          "base_uri": "https://localhost:8080/"
        },
        "id": "ZLEUNDPKXTUA",
        "outputId": "d7ea740a-9c4c-4f94-e8cd-1ea7b27f9445"
      },
      "execution_count": null,
      "outputs": [
        {
          "output_type": "execute_result",
          "data": {
            "text/plain": [
              "4.0"
            ]
          },
          "metadata": {},
          "execution_count": 39
        }
      ]
    },
    {
      "cell_type": "code",
      "source": [
        "q3 = np.percentile(b,75)\n",
        "q3"
      ],
      "metadata": {
        "colab": {
          "base_uri": "https://localhost:8080/"
        },
        "id": "QNGBXufEXdFI",
        "outputId": "22cbf8a6-45ab-4372-e898-f8ccaa84d32a"
      },
      "execution_count": null,
      "outputs": [
        {
          "output_type": "execute_result",
          "data": {
            "text/plain": [
              "6.7"
            ]
          },
          "metadata": {},
          "execution_count": 40
        }
      ]
    },
    {
      "cell_type": "code",
      "source": [
        "#rango intercuartil: q3 - q1 \n",
        "\n",
        "q3 - q1"
      ],
      "metadata": {
        "colab": {
          "base_uri": "https://localhost:8080/"
        },
        "id": "N9IpdpF8Xrns",
        "outputId": "569bdc09-eb32-4999-eb31-64098e4631b8"
      },
      "execution_count": null,
      "outputs": [
        {
          "output_type": "execute_result",
          "data": {
            "text/plain": [
              "2.7"
            ]
          },
          "metadata": {},
          "execution_count": 41
        }
      ]
    },
    {
      "cell_type": "code",
      "source": [
        ""
      ],
      "metadata": {
        "id": "Mpf7R7E2XxZS"
      },
      "execution_count": null,
      "outputs": []
    }
  ]
}
